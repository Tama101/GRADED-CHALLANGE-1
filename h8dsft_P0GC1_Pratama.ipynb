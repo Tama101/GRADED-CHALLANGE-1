{
 "cells": [
  {
   "cell_type": "markdown",
   "metadata": {},
   "source": [
    "**Using this template**\n",
    "\n",
    "1. Change notebook title to assignment title you working on, eg. `Graded Challenge 1 or Milestone 1`\n",
    "2. Put your identity such as name and batch number below notebook title.\n",
    "3. Write your description before do any work. State your purpose of this assignment and what you are trying to achieve. \n",
    "4. Look at the rubric of this assignment and make sure you understand the criteria.\n",
    "5. Code your solution in the cell provided below the working area section.\n",
    "6. State your conlusions, findings, and any other relevant information in the cell provided below the conclusions sections.\n",
    "7. Save this notebook and rename it to assignment title you working on  eg. `Graded Challenge 1 or Milestone 1`\n",
    "8. Push your assignment before deadline.\n",
    "9. Good Luck!"
   ]
  },
  {
   "cell_type": "markdown",
   "metadata": {},
   "source": [
    "# Graded Challenge 1\n",
    "\n",
    "`Pratama Waskito Prihandana - FTDS Batch 003`"
   ]
  },
  {
   "cell_type": "markdown",
   "metadata": {},
   "source": [
    "## Description\n",
    "\n",
    "### Problem Statement\n",
    "\n",
    "`In this assignment, I will ________`\n",
    "\n",
    "### Objective\n",
    "\n",
    "`In this assignment, I will ________`\n",
    "\n"
   ]
  },
  {
   "cell_type": "markdown",
   "metadata": {},
   "source": [
    "## Working Area\n",
    "\n",
    "```txt\n",
    "Here, I will show you the steps to achieve the objectives.\n",
    "```"
   ]
  },
  {
   "cell_type": "markdown",
   "metadata": {},
   "source": [
    "### Importing Libraries\n",
    "\n",
    "First, I need to import the libraries that I will use which is numpy and pandas as the following :"
   ]
  },
  {
   "cell_type": "code",
   "execution_count": 3,
   "metadata": {},
   "outputs": [],
   "source": [
    "import numpy as np\n",
    "import pandas as pd"
   ]
  },
  {
   "cell_type": "markdown",
   "metadata": {},
   "source": [
    "### Data Loading\n",
    "\n",
    "I drew the data from BigQuery located at bigquery-public-data.covid19_jhu_csse_eu.summary, then I collected data using the following SQL query :\n",
    "\n",
    "    SELECT province_state, country_region, confirmed, deaths,\n",
    "    FROM bigquery-public-data.covid19_jhu_csse_eu.summary\n",
    "    WHERE lower(country_region) = \"india\"'\n",
    "\n",
    "After that I exported into .csv format and upload it to Github repository then I assign a variable to the dataframe as \"df\"."
   ]
  },
  {
   "cell_type": "code",
   "execution_count": 13,
   "metadata": {},
   "outputs": [],
   "source": [
    "df = pd.read_csv(\"covid_india.csv\")"
   ]
  },
  {
   "cell_type": "code",
   "execution_count": 8,
   "metadata": {},
   "outputs": [
    {
     "data": {
      "text/html": [
       "<div>\n",
       "<style scoped>\n",
       "    .dataframe tbody tr th:only-of-type {\n",
       "        vertical-align: middle;\n",
       "    }\n",
       "\n",
       "    .dataframe tbody tr th {\n",
       "        vertical-align: top;\n",
       "    }\n",
       "\n",
       "    .dataframe thead th {\n",
       "        text-align: right;\n",
       "    }\n",
       "</style>\n",
       "<table border=\"1\" class=\"dataframe\">\n",
       "  <thead>\n",
       "    <tr style=\"text-align: right;\">\n",
       "      <th></th>\n",
       "      <th>province_state</th>\n",
       "      <th>country_region</th>\n",
       "      <th>confirmed</th>\n",
       "      <th>deaths</th>\n",
       "    </tr>\n",
       "  </thead>\n",
       "  <tbody>\n",
       "    <tr>\n",
       "      <th>0</th>\n",
       "      <td>West Bengal</td>\n",
       "      <td>India</td>\n",
       "      <td>1537890</td>\n",
       "      <td>18291.0</td>\n",
       "    </tr>\n",
       "    <tr>\n",
       "      <th>1</th>\n",
       "      <td>West Bengal</td>\n",
       "      <td>India</td>\n",
       "      <td>597634</td>\n",
       "      <td>10355.0</td>\n",
       "    </tr>\n",
       "    <tr>\n",
       "      <th>2</th>\n",
       "      <td>West Bengal</td>\n",
       "      <td>India</td>\n",
       "      <td>713780</td>\n",
       "      <td>10825.0</td>\n",
       "    </tr>\n",
       "    <tr>\n",
       "      <th>3</th>\n",
       "      <td>West Bengal</td>\n",
       "      <td>India</td>\n",
       "      <td>1564883</td>\n",
       "      <td>18716.0</td>\n",
       "    </tr>\n",
       "    <tr>\n",
       "      <th>4</th>\n",
       "      <td>West Bengal</td>\n",
       "      <td>India</td>\n",
       "      <td>568103</td>\n",
       "      <td>10115.0</td>\n",
       "    </tr>\n",
       "    <tr>\n",
       "      <th>...</th>\n",
       "      <td>...</td>\n",
       "      <td>...</td>\n",
       "      <td>...</td>\n",
       "      <td>...</td>\n",
       "    </tr>\n",
       "    <tr>\n",
       "      <th>33564</th>\n",
       "      <td>NaN</td>\n",
       "      <td>India</td>\n",
       "      <td>29451</td>\n",
       "      <td>939.0</td>\n",
       "    </tr>\n",
       "    <tr>\n",
       "      <th>33565</th>\n",
       "      <td>NaN</td>\n",
       "      <td>India</td>\n",
       "      <td>657</td>\n",
       "      <td>12.0</td>\n",
       "    </tr>\n",
       "    <tr>\n",
       "      <th>33566</th>\n",
       "      <td>NaN</td>\n",
       "      <td>India</td>\n",
       "      <td>106475</td>\n",
       "      <td>3302.0</td>\n",
       "    </tr>\n",
       "    <tr>\n",
       "      <th>33567</th>\n",
       "      <td>NaN</td>\n",
       "      <td>India</td>\n",
       "      <td>11487</td>\n",
       "      <td>393.0</td>\n",
       "    </tr>\n",
       "    <tr>\n",
       "      <th>33568</th>\n",
       "      <td>NaN</td>\n",
       "      <td>India</td>\n",
       "      <td>265928</td>\n",
       "      <td>7473.0</td>\n",
       "    </tr>\n",
       "  </tbody>\n",
       "</table>\n",
       "<p>33569 rows × 4 columns</p>\n",
       "</div>"
      ],
      "text/plain": [
       "      province_state country_region  confirmed   deaths\n",
       "0        West Bengal          India    1537890  18291.0\n",
       "1        West Bengal          India     597634  10355.0\n",
       "2        West Bengal          India     713780  10825.0\n",
       "3        West Bengal          India    1564883  18716.0\n",
       "4        West Bengal          India     568103  10115.0\n",
       "...              ...            ...        ...      ...\n",
       "33564            NaN          India      29451    939.0\n",
       "33565            NaN          India        657     12.0\n",
       "33566            NaN          India     106475   3302.0\n",
       "33567            NaN          India      11487    393.0\n",
       "33568            NaN          India     265928   7473.0\n",
       "\n",
       "[33569 rows x 4 columns]"
      ]
     },
     "execution_count": 8,
     "metadata": {},
     "output_type": "execute_result"
    }
   ],
   "source": [
    "# Let's see if the dataframe is successful :\n",
    "\n",
    "df"
   ]
  }
 ],
 "metadata": {
  "kernelspec": {
   "display_name": "Python 3.10.8 64-bit (microsoft store)",
   "language": "python",
   "name": "python3"
  },
  "language_info": {
   "codemirror_mode": {
    "name": "ipython",
    "version": 3
   },
   "file_extension": ".py",
   "mimetype": "text/x-python",
   "name": "python",
   "nbconvert_exporter": "python",
   "pygments_lexer": "ipython3",
   "version": "3.10.8"
  },
  "orig_nbformat": 4,
  "vscode": {
   "interpreter": {
    "hash": "2477715d23cfa7073719b1da90ed711566d48571fff9b70e9b4255db9b9514ee"
   }
  }
 },
 "nbformat": 4,
 "nbformat_minor": 2
}
